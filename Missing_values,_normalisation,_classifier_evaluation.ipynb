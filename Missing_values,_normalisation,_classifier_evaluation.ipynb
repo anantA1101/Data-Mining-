{
  "nbformat": 4,
  "nbformat_minor": 0,
  "metadata": {
    "kernelspec": {
      "display_name": "Python 3",
      "language": "python",
      "name": "python3"
    },
    "language_info": {
      "codemirror_mode": {
        "name": "ipython",
        "version": 3
      },
      "file_extension": ".py",
      "mimetype": "text/x-python",
      "name": "python",
      "nbconvert_exporter": "python",
      "pygments_lexer": "ipython3",
      "version": "3.9.0"
    },
    "colab": {
      "name": "Missing values, normalisation, classifier evaluation.ipynb",
      "provenance": [],
      "include_colab_link": true
    }
  },
  "cells": [
    {
      "cell_type": "markdown",
      "metadata": {
        "id": "view-in-github",
        "colab_type": "text"
      },
      "source": [
        "<a href=\"https://colab.research.google.com/github/anantA1101/Data-Mining-/blob/main/Missing_values%2C_normalisation%2C_classifier_evaluation.ipynb\" target=\"_parent\"><img src=\"https://colab.research.google.com/assets/colab-badge.svg\" alt=\"Open In Colab\"/></a>"
      ]
    },
    {
      "cell_type": "markdown",
      "metadata": {
        "id": "pLDpfI3OWom_"
      },
      "source": [
        "# Missing values, normalisation, classifier evaluation"
      ]
    },
    {
      "cell_type": "code",
      "metadata": {
        "id": "98yz2tcnWonD"
      },
      "source": [
        "import numpy as np"
      ],
      "execution_count": 2,
      "outputs": []
    },
    {
      "cell_type": "markdown",
      "metadata": {
        "id": "cmJYIkc1WonD"
      },
      "source": [
        "## Exercise 1\n",
        "\n",
        "Given dataset (as an Numpy array) that contains  records about 50 persons: (Gender, Height, Weight, Index).\n",
        "- Gender = 0 (Male); 1 (Female) (binary)\n",
        "- Height = person's height in cm (integer)\n",
        "- Weight = person's weight in kg (integer)\n",
        "- Index = 0 - Extremely Weak; 1 - Weak; 2 - Normal; 3 - Overweight; 4 - Obesity; 5 - Extreme Obesity (integer from 0 to 5)"
      ]
    },
    {
      "cell_type": "code",
      "metadata": {
        "id": "pmPGci4TWonE"
      },
      "source": [
        "dataset = np.array([[0, 174, -1, 4], [0, 189, 87, 2], [1, 185, 110, 4], [1, 195, 104, 3], [0, 149, 61, 3], [0, 1893, 104, 3], [0, 147, 92, 5], [0, 154, 111, 5], [0, 174, 2, 3], [10, 169, 103, 4], [0, 195, 81, 2], [-1, 159, 80, 4], [1, 192, 101, 3], [0, 155, 51, 2], [0, 191, 379, 2], [1, 4, 107, 5], [1, 157, 110, 5], [0, 140, 129, 5], [0, 144, 145, 5], [0, 172, 139, -5], [0, 157, 110, 5], [1, 153, 149, 5], [1, 169, 97, 4], [0, 185, 139, 5], [1, 172, 67, 2], [1, 151, 64, 3], [0, 190, 95, 3], [0, 187, 62, 1], [1, 163, 159, 5], [0, 179, 152, 5], [0, 153, 121, 5], [0, 178, 52, 1], [1, 195, 65, 1], [1, 160, 131, 5], [1, 157, 153, 5], [1, 189, 132, 4], [1, 197, 114, 3], [0, 144, 80, 4], [1, 171, 152, 5], [1, 185, 81, 2], [1, 175, 120, 4], [1, 149, 108, 5], [0, 157, 56, 2], [0, 161, 118, 5], [1, 182, 126, 4], [0, 185, 76, 2], [1, 188, 122, 4], [0, 181, 111, 4], [0, 161, 72, 3], [0, 140, 152, 5]])"
      ],
      "execution_count": 3,
      "outputs": []
    },
    {
      "cell_type": "markdown",
      "metadata": {
        "id": "U1jvxnezWonE"
      },
      "source": [
        "1. Output the records with noisy data, i.e., records where values of some features are most likely incorrect (you can assume that Height should be in the range $[50,220]$, and Weight in the range $[50, 160]$)"
      ]
    },
    {
      "cell_type": "code",
      "metadata": {
        "id": "Md8nZ-xpWonE",
        "colab": {
          "base_uri": "https://localhost:8080/"
        },
        "outputId": "229ba520-c42b-4b22-89dc-744d105daef8"
      },
      "source": [
        "abn_list=[]\n",
        "for i in range(len(dataset)):\n",
        "  if dataset[i][1] > 220 or dataset[i][1]<50 or dataset[i][2] < 50 or dataset[i][2] > 160:\n",
        "    \n",
        "    print(\"Abnormal Data\")\n",
        "    print(dataset[i],\"\\n\")\n",
        "    abn_list.append(i)\n",
        "    \n",
        "print(abn_list)\n",
        "    "
      ],
      "execution_count": 4,
      "outputs": [
        {
          "output_type": "stream",
          "name": "stdout",
          "text": [
            "Abnormal Data\n",
            "[  0 174  -1   4] \n",
            "\n",
            "Abnormal Data\n",
            "[   0 1893  104    3] \n",
            "\n",
            "Abnormal Data\n",
            "[  0 174   2   3] \n",
            "\n",
            "Abnormal Data\n",
            "[  0 191 379   2] \n",
            "\n",
            "Abnormal Data\n",
            "[  1   4 107   5] \n",
            "\n",
            "[0, 5, 8, 14, 15]\n"
          ]
        }
      ]
    },
    {
      "cell_type": "markdown",
      "metadata": {
        "id": "J46aFmBKWonE"
      },
      "source": [
        "2. Create a new dataset where noisy records (those that were identified as noisy in the previous step) are removed"
      ]
    },
    {
      "cell_type": "code",
      "metadata": {
        "id": "dwwQUiWhWonF"
      },
      "source": [
        "new_dataset = np.delete(dataset, abn_list, axis=0)\n"
      ],
      "execution_count": 5,
      "outputs": []
    },
    {
      "cell_type": "code",
      "source": [
        "print(new_dataset)"
      ],
      "metadata": {
        "colab": {
          "base_uri": "https://localhost:8080/"
        },
        "id": "NaKtpALLOIwM",
        "outputId": "2721576f-6c47-460d-c181-75372e3c2102"
      },
      "execution_count": 6,
      "outputs": [
        {
          "output_type": "stream",
          "name": "stdout",
          "text": [
            "[[  0 189  87   2]\n",
            " [  1 185 110   4]\n",
            " [  1 195 104   3]\n",
            " [  0 149  61   3]\n",
            " [  0 147  92   5]\n",
            " [  0 154 111   5]\n",
            " [ 10 169 103   4]\n",
            " [  0 195  81   2]\n",
            " [ -1 159  80   4]\n",
            " [  1 192 101   3]\n",
            " [  0 155  51   2]\n",
            " [  1 157 110   5]\n",
            " [  0 140 129   5]\n",
            " [  0 144 145   5]\n",
            " [  0 172 139  -5]\n",
            " [  0 157 110   5]\n",
            " [  1 153 149   5]\n",
            " [  1 169  97   4]\n",
            " [  0 185 139   5]\n",
            " [  1 172  67   2]\n",
            " [  1 151  64   3]\n",
            " [  0 190  95   3]\n",
            " [  0 187  62   1]\n",
            " [  1 163 159   5]\n",
            " [  0 179 152   5]\n",
            " [  0 153 121   5]\n",
            " [  0 178  52   1]\n",
            " [  1 195  65   1]\n",
            " [  1 160 131   5]\n",
            " [  1 157 153   5]\n",
            " [  1 189 132   4]\n",
            " [  1 197 114   3]\n",
            " [  0 144  80   4]\n",
            " [  1 171 152   5]\n",
            " [  1 185  81   2]\n",
            " [  1 175 120   4]\n",
            " [  1 149 108   5]\n",
            " [  0 157  56   2]\n",
            " [  0 161 118   5]\n",
            " [  1 182 126   4]\n",
            " [  0 185  76   2]\n",
            " [  1 188 122   4]\n",
            " [  0 181 111   4]\n",
            " [  0 161  72   3]\n",
            " [  0 140 152   5]]\n"
          ]
        }
      ]
    },
    {
      "cell_type": "markdown",
      "metadata": {
        "id": "HgiCe7VRWonF"
      },
      "source": [
        "3. In the cleaned dataset, compute the means (i.e., average) of Height and Weight features (rounded to the nearest integer)"
      ]
    },
    {
      "cell_type": "code",
      "metadata": {
        "id": "0f3BA-LIWonF",
        "colab": {
          "base_uri": "https://localhost:8080/"
        },
        "outputId": "db954cf6-cad1-4d70-91cf-5389c26a36af"
      },
      "source": [
        "h_sum=0\n",
        "w_sum=0\n",
        "\n",
        "for i in range(len(new_dataset)):\n",
        "  h_sum += new_dataset[i][1]\n",
        "  w_sum += new_dataset[i][2]\n",
        "\n",
        "h_m = h_sum/len(new_dataset)\n",
        "\n",
        "w_m = w_sum/len(new_dataset)\n",
        "print(h_m)\n",
        "print(w_m)"
      ],
      "execution_count": 7,
      "outputs": [
        {
          "output_type": "stream",
          "name": "stdout",
          "text": [
            "169.24444444444444\n",
            "105.33333333333333\n"
          ]
        }
      ]
    },
    {
      "cell_type": "markdown",
      "metadata": {
        "id": "GuII8W8sWonF"
      },
      "source": [
        "4. Plot the data points from the cleaned dataset: For every record, plot the point with coordinates (Height, Weight), i.e. Height is along the X-axis and Weight is along the Y-axis. Use different colors/shapes of points for records with different value of Index. Can you see separation between the classes of objects with different values of Index?"
      ]
    },
    {
      "cell_type": "code",
      "metadata": {
        "id": "wrOCL6EdWonF",
        "colab": {
          "base_uri": "https://localhost:8080/",
          "height": 282
        },
        "outputId": "19bdee71-636c-4ec1-a9ec-db4cbabfad36"
      },
      "source": [
        "import matplotlib.pyplot as plt\n",
        "\n",
        "height_x=[]\n",
        "weight_y=[]\n",
        "t = np.arange(0, len(new_dataset))\n",
        "print(len(t))\n",
        "for i in range(len(new_dataset)):\n",
        "  height_x.append(new_dataset[i][1])\n",
        "  weight_y.append(new_dataset[i][2])\n",
        "plt.scatter(t,height_x,color='blue')\n",
        "plt.scatter(t,weight_y,color='red')\n",
        "plt.show()\n"
      ],
      "execution_count": 8,
      "outputs": [
        {
          "output_type": "stream",
          "name": "stdout",
          "text": [
            "45\n"
          ]
        },
        {
          "output_type": "display_data",
          "data": {
            "image/png": "[encoded data removed]",
            "text/plain": [
              "<Figure size 432x288 with 1 Axes>"
            ]
          },
          "metadata": {
            "needs_background": "light"
          }
        }
      ]
    },
    {
      "cell_type": "markdown",
      "metadata": {
        "id": "_Lg7XlDeWonF"
      },
      "source": [
        "---\n",
        "\n",
        "## Exercise 2\n",
        "\n",
        "Given a dataset of objects with 2 features, create new datasets where both features are normalised."
      ]
    },
    {
      "cell_type": "code",
      "metadata": {
        "id": "0KEr4M3lWonG"
      },
      "source": [
        "dataset2 = np.array([[116.87714213,  22.38724318],[ 98.05089468,  17.70419866],[121.91732905,  20.76950035],[150.60375643,  20.44777321],[116.15969721,  20.22792041],[175.55264595,  21.02920868],[130.2102414 ,  22.23461658],[117.79758934,  21.54449521],[199.05450964,  20.53902401],[155.00458477,  20.67588878],[160.27851623,  20.30877322],[142.49587465,  18.75387901],[167.32252309,  21.2040159 ],[178.11489609,  19.52285308],[135.76602655,  18.01816954],[117.62628615,  20.95436217],[171.74626081,  20.37269529],[130.11860385,  19.56387712],[122.68044125,  21.48927022],[159.43238282,  21.38030275],[108.78123817,  19.86203164],[152.70729255,  21.24708246],[143.64358057,  21.40357256],[209.68785285,  19.65378059],[133.08486628,  19.23372601],[138.2204662 ,  20.37983756],[143.65610499,  19.92235183],[143.29146765,  20.56157279],[106.79099845,  19.35181412],[208.89304694,  19.9697894 ],[183.55451445,  20.36281171],[144.46962995,  19.83011097],[174.87583233,  20.25079178],[137.33207546,  21.02909898],[187.74834101,  20.23883521],[127.59840561,  21.7328862 ],[110.15966458,  19.29460209],[130.82208863,  18.98107528],[166.72373008,  20.63258552],[154.50866392,  21.05583445],[190.93412702,  21.08776453],[148.62481651,  19.40248102],[115.50503568,  18.39916603],[155.39233722,  20.23610734],[146.44242825,  20.30917973],[114.21209804,  19.10945672],[140.4159023 ,  19.96369514],[140.82108456,  20.05603083],[129.50278428,  18.92210224],[174.88635445,  19.03980704]])"
      ],
      "execution_count": 60,
      "outputs": []
    },
    {
      "cell_type": "markdown",
      "metadata": {
        "id": "DIJVfyAkWonG"
      },
      "source": [
        "1. Normalise features with $[0,1]$-scaling"
      ]
    },
    {
      "cell_type": "code",
      "metadata": {
        "id": "K_stin6fWonG",
        "colab": {
          "base_uri": "https://localhost:8080/"
        },
        "outputId": "80e59cba-107e-411e-ba76-5a1360995ef2"
      },
      "source": [
        "lis=[]\n",
        "lis2= []\n",
        "\n",
        "arr2D =np.empty(shape=[50,2])\n",
        "\n",
        "for i in range(len(dataset2)):\n",
        "  lis.append(dataset2[i][0])\n",
        "  lis2.append(dataset2[i][1])\n",
        "\n",
        "for i in range(len(dataset2)):\n",
        "  arr2D[i][0]= (dataset2[i][0] - min(lis))/(max(lis)-min(lis))\n",
        "  arr2D[i][1]= (dataset2[i][1] - min(lis2))/(max(lis2)-min(lis2))\n",
        "  #arr2D = np.append(arr2D, [[1,2]], axis=0)\n",
        "\n",
        "print(arr2D)"
      ],
      "execution_count": 68,
      "outputs": [
        {
          "output_type": "stream",
          "name": "stdout",
          "text": [
            "[[0.16863813 1.        ]\n",
            " [0.         0.        ]\n",
            " [0.21378614 0.65455318]\n",
            " [0.47074788 0.58585276]\n",
            " [0.16221154 0.5389062 ]\n",
            " [0.69423023 0.71001034]\n",
            " [0.28807079 0.96740868]\n",
            " [0.17688313 0.82004272]\n",
            " [0.90475069 0.60533812]\n",
            " [0.51016877 0.63456371]\n",
            " [0.55741058 0.55617121]\n",
            " [0.39812066 0.22414486]\n",
            " [0.62050802 0.74733802]\n",
            " [0.71718186 0.38834874]\n",
            " [0.33783733 0.06704418]\n",
            " [0.17534866 0.69402789]\n",
            " [0.66013413 0.5698209 ]\n",
            " [0.28724994 0.39710886]\n",
            " [0.2206218  0.80825018]\n",
            " [0.54983125 0.78498167]\n",
            " [0.0961182  0.46077567]\n",
            " [0.48959053 0.7565343 ]\n",
            " [0.40840136 0.78995062]\n",
            " [1.         0.41630651]\n",
            " [0.31382055 0.32660961]\n",
            " [0.35982324 0.57134603]\n",
            " [0.40851355 0.47365622]\n",
            " [0.40524727 0.6101531 ]\n",
            " [0.07829041 0.35182571]\n",
            " [0.99288044 0.48378586]\n",
            " [0.76590782 0.56771039]\n",
            " [0.41580079 0.45395945]\n",
            " [0.6881676  0.54379007]\n",
            " [0.35186538 0.70998691]\n",
            " [0.80347447 0.54123691]\n",
            " [0.26467499 0.86027103]\n",
            " [0.1084656  0.33960886]\n",
            " [0.29355148 0.27265951]\n",
            " [0.61514427 0.6253169 ]\n",
            " [0.50572651 0.71569591]\n",
            " [0.83201149 0.72251414]\n",
            " [0.45302132 0.36264493]\n",
            " [0.15634734 0.14840076]\n",
            " [0.51364211 0.54065441]\n",
            " [0.43347234 0.55625802]\n",
            " [0.14476571 0.30007361]\n",
            " [0.37948909 0.48248452]\n",
            " [0.38311855 0.50220154]\n",
            " [0.28173367 0.26006662]\n",
            " [0.68826185 0.28520087]]\n"
          ]
        }
      ]
    },
    {
      "cell_type": "markdown",
      "metadata": {
        "id": "pnUmKT_KWonG"
      },
      "source": [
        "2. Normalise features with Gaussian normalisation"
      ]
    },
    {
      "cell_type": "code",
      "metadata": {
        "id": "ecZG3KCzWonG"
      },
      "source": [
        "def  mean(new_dataset, j):\n",
        "  h_w_sum=0\n",
        "  for i in range(len(new_dataset)):\n",
        "    h_w_sum += new_dataset[i][j]\n",
        "\n",
        "  h_w_m = h_w_sum/len(new_dataset)\n",
        "  return h_w_m\n",
        "\n",
        "\n"
      ],
      "execution_count": 45,
      "outputs": []
    },
    {
      "cell_type": "code",
      "source": [
        "h_mean = mean(dataset2,0)\n",
        "w_mean = mean(dataset2, 1)\n",
        "h_std= np.std(lis)\n",
        "w_std= np.std(lis2)\n",
        "arr=np.empty(shape=[dataset2.shape[0],dataset2.shape[1]])\n",
        "print(h_std)\n",
        "print(w_std)\n",
        "for i in range(len(dataset2)):\n",
        "  arr[i][0]= (dataset2[i][0]- h_mean)/h_std\n",
        "  arr[i][1]= (dataset2[i][1]- w_mean)/w_std\n",
        "\n",
        "print(arr)"
      ],
      "metadata": {
        "colab": {
          "base_uri": "https://localhost:8080/"
        },
        "id": "llfh-V0PSa8s",
        "outputId": "b4e62845-9911-41c0-82a3-42afb74df6f7"
      },
      "execution_count": 69,
      "outputs": [
        {
          "output_type": "stream",
          "name": "stdout",
          "text": [
            "27.037096582284533\n",
            "1.0101010180362706\n",
            "[[-1.09940793  2.15253936]\n",
            " [-1.79571966 -2.48367468]\n",
            " [-0.91299047  0.55097397]\n",
            " [ 0.14801204  0.2324641 ]\n",
            " [-1.12594351  0.01480983]\n",
            " [ 1.07077715  0.80808521]\n",
            " [-0.60626699  2.00143903]\n",
            " [-1.06536407  1.31821887]\n",
            " [ 1.94002225  0.32280239]\n",
            " [ 0.31078204  0.45829852]\n",
            " [ 0.50584483  0.09485411]\n",
            " [-0.15186786 -1.44449114]\n",
            " [ 0.76637602  0.98114436]\n",
            " [ 1.1655451  -0.68320682]\n",
            " [-0.4007795  -2.17284351]\n",
            " [-1.07169993  0.73398717]\n",
            " [ 0.92999336  0.15813696]\n",
            " [-0.60965632 -0.64259302]\n",
            " [-0.88476584  1.26354613]\n",
            " [ 0.47454956  1.15566834]\n",
            " [-1.39884482 -0.34742005]\n",
            " [ 0.22581389  1.02378025]\n",
            " [-0.10941856  1.17870545]\n",
            " [ 2.33330942 -0.55358858]\n",
            " [-0.49994548 -0.96944262]\n",
            " [-0.30999906  0.16520781]\n",
            " [-0.10895532 -0.28770306]\n",
            " [-0.12244188  0.34512569]\n",
            " [-1.47245626 -0.85253539]\n",
            " [ 2.30391256 -0.24073987]\n",
            " [ 1.36673602  0.14835222]\n",
            " [-0.07886611 -0.37902151]\n",
            " [ 1.04574438  0.03745249]\n",
            " [-0.34285727  0.80797661]\n",
            " [ 1.52184981  0.02561548]\n",
            " [-0.70286893  1.50472595]\n",
            " [-1.34786204 -0.9091753 ]\n",
            " [-0.58363708 -1.21956684]\n",
            " [ 0.74422893  0.41542829]\n",
            " [ 0.29243981  0.83444473]\n",
            " [ 1.63968     0.8660555 ]\n",
            " [ 0.07481853 -0.80237516]\n",
            " [-1.15015696 -1.79565699]\n",
            " [ 0.32512354  0.02291489]\n",
            " [-0.00589976  0.09525656]\n",
            " [-1.19797784 -1.09246921]\n",
            " [-0.22879817 -0.24677318]\n",
            " [-0.21381201 -0.15536085]\n",
            " [-0.63243316 -1.27795015]\n",
            " [ 1.04613355 -1.16142239]]\n"
          ]
        }
      ]
    },
    {
      "cell_type": "markdown",
      "metadata": {
        "id": "FJnoVtsbWonG"
      },
      "source": [
        "3. In three different plots show the original data, $[0,1]$-normilised, and Gaussian normalised data."
      ]
    },
    {
      "cell_type": "code",
      "metadata": {
        "id": "9a0c-0GGWonG",
        "colab": {
          "base_uri": "https://localhost:8080/",
          "height": 388
        },
        "outputId": "1eb5666d-04f3-4ab6-b2c5-510aaeefbc44"
      },
      "source": [
        "t = np.arange(0, len(dataset2))\n",
        "print(t)\n",
        "\n",
        "#dataset2\n",
        "data_x= [x[0] for x in dataset2]\n",
        "data_y= [y[1] for y in dataset2]\n",
        "print(data_x)\n",
        "print(len(data_x))\n",
        "#0,1 normalise\n",
        "nol_x= [x[0] for x in arr2D]\n",
        "nol_y= [y[1] for y in arr2D]\n",
        "\n",
        "#Gaussiaun\n",
        "gau_x= [x[0] for x in arr]\n",
        "gau_y= [y[1] for y in arr]\n",
        "\n",
        "figure, axis = plt.subplots(2, 2)\n",
        "\n",
        "axis[0,0].scatter(t,data_x)\n",
        "axis[0,0].scatter(t,data_y)\n",
        "axis[0,0].set_title(\"Dataset 2\")\n",
        "\n",
        "axis[0,1].scatter(t,nol_x)\n",
        "axis[0,1].scatter(t,nol_y)\n",
        "axis[0,1].set_title(\"normalization [0,1] \")\n",
        "\n",
        "axis[1,0].scatter(t,gau_x)\n",
        "axis[1,0].scatter(t,gau_y)\n",
        "axis[1,0].set_title(\"gaussian distribution\")\n",
        "\n",
        "plt.show()"
      ],
      "execution_count": 79,
      "outputs": [
        {
          "output_type": "stream",
          "name": "stdout",
          "text": [
            "[ 0  1  2  3  4  5  6  7  8  9 10 11 12 13 14 15 16 17 18 19 20 21 22 23\n",
            " 24 25 26 27 28 29 30 31 32 33 34 35 36 37 38 39 40 41 42 43 44 45 46 47\n",
            " 48 49]\n",
            "[116.87714213, 98.05089468, 121.91732905, 150.60375643, 116.15969721, 175.55264595, 130.2102414, 117.79758934, 199.05450964, 155.00458477, 160.27851623, 142.49587465, 167.32252309, 178.11489609, 135.76602655, 117.62628615, 171.74626081, 130.11860385, 122.68044125, 159.43238282, 108.78123817, 152.70729255, 143.64358057, 209.68785285, 133.08486628, 138.2204662, 143.65610499, 143.29146765, 106.79099845, 208.89304694, 183.55451445, 144.46962995, 174.87583233, 137.33207546, 187.74834101, 127.59840561, 110.15966458, 130.82208863, 166.72373008, 154.50866392, 190.93412702, 148.62481651, 115.50503568, 155.39233722, 146.44242825, 114.21209804, 140.4159023, 140.82108456, 129.50278428, 174.88635445]\n",
            "50\n"
          ]
        },
        {
          "output_type": "display_data",
          "data": {
            "image/png": "[encoded data removed]",
            "text/plain": [
              "<Figure size 432x288 with 4 Axes>"
            ]
          },
          "metadata": {
            "needs_background": "light"
          }
        }
      ]
    },
    {
      "cell_type": "markdown",
      "metadata": {
        "id": "_ZzUFbtvWonH"
      },
      "source": [
        "---\n",
        "\n",
        "## Exercise 3\n",
        "\n",
        "Given training ($\\texttt{y_true}$) and predicted ($\\texttt{y_pred}$) data for binary classification, where 1 corresponds to the positive class and 0 corresponds to the negative class, compute\n",
        "1. The number of True Positives, True Negatives, False Positives, False Negatives\n",
        "2. Accuracy\n",
        "3. Precision\n",
        "4. Recall\n",
        "5. F-score"
      ]
    },
    {
      "cell_type": "code",
      "metadata": {
        "id": "hUR_vzmTWonH"
      },
      "source": [
        "y_true = np.array([0, 1, 0, 0, 1, 1, 1, 0, 1, 1, 0, 0, 1, 1, 0, 1, 0, 1, 0, 0, 0, 0, 1, 1, 1, 1, 1, 0, 0, 1, 1, 1, 1, 1, 1, 1, 0, 0, 1, 1, 1, 0, 0, 1, 1, 1, 1, 0, 1, 0])\n",
        "y_pred = np.array([0, 1, 0, 0, 1, 0, 1, 1, 1, 1, 0, 0, 0, 0, 0, 1, 0, 1, 0, 0, 1, 1, 1, 0, 1, 1, 1, 0, 1, 1, 1, 1, 1, 1, 1, 1, 0, 0, 1, 1, 0, 0, 0, 0, 1, 1, 0, 1, 0, 0])"
      ],
      "execution_count": 80,
      "outputs": []
    },
    {
      "cell_type": "code",
      "metadata": {
        "id": "x_Kk4NmoWonH",
        "colab": {
          "base_uri": "https://localhost:8080/"
        },
        "outputId": "92619241-18c9-46b3-8771-7c6e1c14e6d2"
      },
      "source": [
        "TP=0\n",
        "TN=0\n",
        "FP=0\n",
        "FN=0\n",
        "for i in range(len(y_pred)):\n",
        "  if y_pred[i]==1 and y_pred[i] == y_true[i] :\n",
        "    TP+=1\n",
        "  elif y_pred[i]==0 and y_pred[i] == y_true[i]:\n",
        "    TN+=1\n",
        "  elif y_pred[i]==1 and y_pred[i] != y_true[i] :\n",
        "    FP+=1\n",
        "  elif y_pred[i]==0 and y_pred[i] != y_true[i]:\n",
        "    FN+=1\n",
        "A=(TP+TN)/len(y_pred)\n",
        "P=TP/(TP+FP)\n",
        "R=TP/(TP+FN)\n",
        "F=2*((P*R)/(P+R))\n",
        "print(\"True Positive =\", TP)\n",
        "print(\"True negative =\", TN)\n",
        "print(\"False Positive =\", FP)\n",
        "print(\"False negative =\", FN)\n",
        "print(\"Accuracy = \", A)\n",
        "print(\"Precsion = \", P)\n",
        "print(\"Recall = \", R)\n",
        "print(\"F! Score = \", F)"
      ],
      "execution_count": 85,
      "outputs": [
        {
          "output_type": "stream",
          "name": "stdout",
          "text": [
            "True Positive = 22\n",
            "True negative = 15\n",
            "False Positive = 5\n",
            "False negative = 8\n",
            "Accuracy =  0.74\n",
            "Precsion =  0.8148148148148148\n",
            "Recall =  0.7333333333333333\n",
            "F! Score =  0.7719298245614035\n"
          ]
        }
      ]
    },
    {
      "cell_type": "markdown",
      "metadata": {
        "id": "_QxVDuGjWonH"
      },
      "source": [
        "---\n",
        "\n",
        "## Exercise 4\n",
        "\n",
        "Given training and predicted data for 4-class classification, where classes are 0,1,2,3"
      ]
    },
    {
      "cell_type": "code",
      "metadata": {
        "id": "8WMozxqCWonH"
      },
      "source": [
        "y_true = np.array([1, 2, 3, 0, 1, 1, 0, 0, 2, 0, 2, 2, 1, 0, 1, 2, 3, 3, 3, 3, 0, 0, 1, 0, 0, 0, 1, 0, 0, 3, 0, 3, 2, 1, 1, 2, 1, 0, 3, 1, 2, 0, 0, 1,3, 2, 3, 3, 3, 0, 3, 1, 0, 1, 0, 2, 0, 3, 3, 3, 2, 0, 1, 3, 0, 1,3, 3, 2, 2, 1, 3, 2, 2, 2, 2, 3, 1, 1, 2, 3, 2, 2, 3, 2, 2, 1, 1,2, 2, 0, 3, 0, 0, 0, 1, 0, 3, 1, 0, 0, 3, 3, 1, 0, 2, 0, 3, 3, 2,1, 0, 3, 2, 0, 1, 3, 1, 2, 1, 3, 2, 2, 2, 2, 3, 3, 3, 2, 0, 2, 2,2, 0, 2, 0, 0, 3, 0, 2, 2, 0, 1, 1, 2, 2, 3, 0, 1, 0, 1, 0, 0, 0,0, 0, 2, 2, 0, 3, 3, 2, 3, 0, 3, 3, 2, 0, 0, 1, 2, 2, 3, 3, 1, 3,1, 2, 1, 2, 0, 0, 0, 0, 2, 2, 1, 3, 0, 2, 1, 1, 1, 1, 3, 2, 1, 3,1, 0])\n",
        "y_pred = np.array([1, 1, 1, 1, 2, 1, 0, 0, 2, 0, 2, 2, 1, 3, 1, 2, 1, 3, 2, 3, 1, 1, 2, 3, 0, 0, 1, 0, 1, 0, 2, 3, 2, 0, 1, 3, 1, 0, 0, 1, 3, 1, 0, 1,3, 3, 3, 3, 3, 1, 3, 1, 2, 2, 0, 2, 0, 3, 3, 3, 0, 2, 2, 3, 2, 2,3, 3, 2, 2, 1, 3, 3, 2, 3, 2, 3, 2, 2, 0, 3, 1, 2, 3, 3, 1, 2, 2,2, 2, 0, 3, 0, 0, 0, 1, 0, 3, 1, 0, 0, 3, 3, 2, 0, 2, 0, 3, 3, 2,1, 0, 3, 2, 0, 1, 3, 1, 2, 1, 0, 3, 2, 2, 0, 3, 3, 3, 2, 1, 2, 3,2, 0, 2, 0, 0, 3, 0, 2, 3, 0, 1, 1, 2, 2, 0, 0, 2, 0, 1, 0, 0, 0,0, 0, 2, 2, 0, 0, 3, 2, 3, 0, 0, 3, 3, 0, 1, 1, 2, 2, 3, 3, 2, 3,1, 2, 1, 2, 1, 1, 0, 0, 2, 2, 1, 3, 0, 2, 1, 1, 1, 1, 3, 3, 1, 3,1, 0])"
      ],
      "execution_count": 88,
      "outputs": []
    },
    {
      "cell_type": "markdown",
      "metadata": {
        "id": "l7nW7HExWonI"
      },
      "source": [
        "1. Compute the confusion matrix, i.e. a 4x4 matrix $\\overline{A}$, in which an element $\\overline{A}_{i,j}$ contains the number of elements that were predicted to be in class $i$, while their true class is $j$"
      ]
    },
    {
      "cell_type": "code",
      "metadata": {
        "id": "WWzBVgOUWonI",
        "colab": {
          "base_uri": "https://localhost:8080/"
        },
        "outputId": "a650ea0a-89c6-400c-b836-872733c95945"
      },
      "source": [
        "def confution_mat(actual, predicted):\n",
        "\n",
        "    classes = np.unique(actual) \n",
        "    matrix = np.zeros((len(classes), len(classes))) \n",
        "\n",
        "    for i in range(len(classes)):\n",
        "        for j in range(len(classes)):\n",
        "\n",
        "            matrix[i, j] = np.sum((actual == classes[j]) & (predicted == classes[i]))\n",
        "\n",
        "    return matrix\n",
        "  \n",
        "print(confution_mat(y_true , y_pred))"
      ],
      "execution_count": 90,
      "outputs": [
        {
          "output_type": "stream",
          "name": "stdout",
          "text": [
            "[[40.  1.  3.  6.]\n",
            " [10. 30.  3.  2.]\n",
            " [ 4. 12. 36.  1.]\n",
            " [ 2.  0. 11. 39.]]\n"
          ]
        }
      ]
    },
    {
      "cell_type": "markdown",
      "metadata": {
        "id": "AsVdLp6EWonI"
      },
      "source": [
        "2. Compute Precision, Recall, F-score for every class, and compute the macro F-score"
      ]
    },
    {
      "cell_type": "code",
      "source": [
        "classes = np.unique(y_pred)"
      ],
      "metadata": {
        "id": "Sket0WoKq3D3"
      },
      "execution_count": 91,
      "outputs": []
    },
    {
      "cell_type": "code",
      "metadata": {
        "id": "0M-qeTeWWonI",
        "colab": {
          "base_uri": "https://localhost:8080/"
        },
        "outputId": "7e72d959-4d47-4e9e-cce0-8c333c889a34"
      },
      "source": [
        "for clas in classes:\n",
        "  TP=0\n",
        "  TN=0\n",
        "  FP=0\n",
        "  FN=0\n",
        "  for i in range(len(y_pred)):\n",
        "    if y_pred[i]==clas and y_pred[i] == y_true[i] :\n",
        "      TP+=1\n",
        "    elif y_pred[i]!=clas and y_pred[i] == y_true[i]:\n",
        "      TN+=1\n",
        "    elif y_pred[i]==clas and y_pred[i] != y_true[i] :\n",
        "      FP+=1\n",
        "    elif y_pred[i]!=clas and y_pred[i] != y_true[i]:\n",
        "      FN+=1\n",
        "  A=(TP+TN)/len(y_pred)\n",
        "  P=TP/(TP+FP)\n",
        "  R=TP/(TP+FN)\n",
        "  F=2*((P*R)/(P+R))\n",
        "  print(\"\\n class=\",clas,\"\\n\")\n",
        "  print(\"True Positive =\", TP)\n",
        "  print(\"True negative =\", TN)\n",
        "  print(\"False Positive =\", FP)\n",
        "  print(\"False negative =\", FN)\n",
        "  print(\"Accuracy = \", A)\n",
        "  print(\"Precsion = \", P)\n",
        "  print(\"Recall = \", R)\n",
        "  print(\"F! Score = \", F)\n"
      ],
      "execution_count": 92,
      "outputs": [
        {
          "output_type": "stream",
          "name": "stdout",
          "text": [
            "\n",
            " class= 0 \n",
            "\n",
            "True Positive = 40\n",
            "True negative = 105\n",
            "False Positive = 10\n",
            "False negative = 45\n",
            "Accuracy =  0.725\n",
            "Precsion =  0.8\n",
            "Recall =  0.47058823529411764\n",
            "F! Score =  0.5925925925925927\n",
            "\n",
            " class= 1 \n",
            "\n",
            "True Positive = 30\n",
            "True negative = 115\n",
            "False Positive = 15\n",
            "False negative = 40\n",
            "Accuracy =  0.725\n",
            "Precsion =  0.6666666666666666\n",
            "Recall =  0.42857142857142855\n",
            "F! Score =  0.5217391304347826\n",
            "\n",
            " class= 2 \n",
            "\n",
            "True Positive = 36\n",
            "True negative = 109\n",
            "False Positive = 17\n",
            "False negative = 38\n",
            "Accuracy =  0.725\n",
            "Precsion =  0.6792452830188679\n",
            "Recall =  0.4864864864864865\n",
            "F! Score =  0.5669291338582677\n",
            "\n",
            " class= 3 \n",
            "\n",
            "True Positive = 39\n",
            "True negative = 106\n",
            "False Positive = 13\n",
            "False negative = 42\n",
            "Accuracy =  0.725\n",
            "Precsion =  0.75\n",
            "Recall =  0.48148148148148145\n",
            "F! Score =  0.5864661654135339\n"
          ]
        }
      ]
    }
  ]
}